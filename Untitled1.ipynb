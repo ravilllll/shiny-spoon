{
 "cells": [
  {
   "cell_type": "code",
   "execution_count": 1,
   "id": "eae18f57",
   "metadata": {},
   "outputs": [],
   "source": [
    "import torch\n",
    "import torch.nn as nn\n",
    "import torch.optim as optim\n",
    "from torchvision import datasets, transforms, models\n",
    "from fastapi import FastAPI, UploadFile, Form, Depends\n",
    "from fastapi.responses import JSONResponse\n",
    "from fastapi.templating import Jinja2Templates\n",
    "from fastapi import HTTPException\n",
    "from fastapi import File\n",
    "from pathlib import Path"
   ]
  },
  {
   "cell_type": "code",
   "execution_count": 2,
   "id": "91023285",
   "metadata": {},
   "outputs": [],
   "source": [
    "app = FastAPI()\n",
    "templates = Jinja2Templates(directory=\"templates\")"
   ]
  },
  {
   "cell_type": "code",
   "execution_count": 3,
   "id": "86b044d6",
   "metadata": {},
   "outputs": [
    {
     "name": "stdout",
     "output_type": "stream",
     "text": [
      "Collecting uvicorn\n",
      "  Obtaining dependency information for uvicorn from https://files.pythonhosted.org/packages/81/d1/90d8a1c0de615eb849ff0cf5cc5dfbad0e360a8bf0f5f2d41dc54260bfce/uvicorn-0.26.0-py3-none-any.whl.metadata\n",
      "  Downloading uvicorn-0.26.0-py3-none-any.whl.metadata (6.4 kB)\n",
      "Requirement already satisfied: click>=7.0 in d:\\anaconda\\lib\\site-packages (from uvicorn) (8.0.4)\n",
      "Collecting h11>=0.8 (from uvicorn)\n",
      "  Downloading h11-0.14.0-py3-none-any.whl (58 kB)\n",
      "     ---------------------------------------- 0.0/58.3 kB ? eta -:--:--\n",
      "     ------- -------------------------------- 10.2/58.3 kB ? eta -:--:--\n",
      "     -------------------- ----------------- 30.7/58.3 kB 435.7 kB/s eta 0:00:01\n",
      "     -------------------------------------- 58.3/58.3 kB 510.8 kB/s eta 0:00:00\n",
      "Requirement already satisfied: colorama in d:\\anaconda\\lib\\site-packages (from click>=7.0->uvicorn) (0.4.6)\n",
      "Downloading uvicorn-0.26.0-py3-none-any.whl (60 kB)\n",
      "   ---------------------------------------- 0.0/60.5 kB ? eta -:--:--\n",
      "   --------------------------------- ------ 51.2/60.5 kB 1.3 MB/s eta 0:00:01\n",
      "   ---------------------------------------- 60.5/60.5 kB 1.6 MB/s eta 0:00:00\n",
      "Installing collected packages: h11, uvicorn\n",
      "Successfully installed h11-0.14.0 uvicorn-0.26.0\n"
     ]
    }
   ],
   "source": [
    "!pip install uvicorn"
   ]
  },
  {
   "cell_type": "code",
   "execution_count": 4,
   "id": "5f8c1efe",
   "metadata": {},
   "outputs": [],
   "source": [
    "from fastapi import FastAPI, UploadFile, File, Form, HTTPException\n",
    "from fastapi.responses import JSONResponse\n",
    "from torchvision import datasets, transforms, models\n",
    "import torch\n",
    "import torch.nn as nn\n",
    "import torch.optim as optim\n",
    "from torch.utils.data import DataLoader\n",
    "from pathlib import Path\n",
    "import shutil\n",
    "import time"
   ]
  },
  {
   "cell_type": "code",
   "execution_count": 5,
   "id": "f711a4b7",
   "metadata": {},
   "outputs": [],
   "source": [
    "from fastapi import FastAPI\n",
    "\n",
    "app = FastAPI()\n",
    "\n",
    "@app.get(\"/\")\n",
    "def read_root():\n",
    "    return {\"message\": \"Hello, World!\"}\n"
   ]
  },
  {
   "cell_type": "code",
   "execution_count": 6,
   "id": "4a96b205",
   "metadata": {},
   "outputs": [
    {
     "name": "stderr",
     "output_type": "stream",
     "text": [
      "Form data requires \"python-multipart\" to be installed. \n",
      "You can install \"python-multipart\" with: \n",
      "\n",
      "pip install python-multipart\n",
      "\n"
     ]
    },
    {
     "ename": "RuntimeError",
     "evalue": "Form data requires \"python-multipart\" to be installed. \nYou can install \"python-multipart\" with: \n\npip install python-multipart\n",
     "output_type": "error",
     "traceback": [
      "\u001b[1;31m---------------------------------------------------------------------------\u001b[0m",
      "\u001b[1;31mRuntimeError\u001b[0m                              Traceback (most recent call last)",
      "Cell \u001b[1;32mIn[6], line 9\u001b[0m\n\u001b[0;32m      5\u001b[0m \u001b[38;5;28;01mfrom\u001b[39;00m \u001b[38;5;21;01mstarlette\u001b[39;00m\u001b[38;5;21;01m.\u001b[39;00m\u001b[38;5;21;01mresponses\u001b[39;00m \u001b[38;5;28;01mimport\u001b[39;00m HTMLResponse\n\u001b[0;32m      7\u001b[0m app \u001b[38;5;241m=\u001b[39m FastAPI()\n\u001b[1;32m----> 9\u001b[0m \u001b[38;5;129m@app\u001b[39m\u001b[38;5;241m.\u001b[39mpost(\u001b[38;5;124m\"\u001b[39m\u001b[38;5;124m/addition\u001b[39m\u001b[38;5;124m\"\u001b[39m)\n\u001b[0;32m     10\u001b[0m \u001b[38;5;28;01masync\u001b[39;00m \u001b[38;5;28;01mdef\u001b[39;00m \u001b[38;5;21madd_numbers\u001b[39m(num1: \u001b[38;5;28mfloat\u001b[39m \u001b[38;5;241m=\u001b[39m Form(\u001b[38;5;241m.\u001b[39m\u001b[38;5;241m.\u001b[39m\u001b[38;5;241m.\u001b[39m), num2: \u001b[38;5;28mfloat\u001b[39m \u001b[38;5;241m=\u001b[39m Form(\u001b[38;5;241m.\u001b[39m\u001b[38;5;241m.\u001b[39m\u001b[38;5;241m.\u001b[39m)):\n\u001b[0;32m     11\u001b[0m     result \u001b[38;5;241m=\u001b[39m num1 \u001b[38;5;241m+\u001b[39m num2\n\u001b[0;32m     12\u001b[0m     \u001b[38;5;28;01mreturn\u001b[39;00m {\u001b[38;5;124m\"\u001b[39m\u001b[38;5;124mresult\u001b[39m\u001b[38;5;124m\"\u001b[39m: result}\n",
      "File \u001b[1;32mD:\\Anaconda\\Lib\\site-packages\\fastapi\\routing.py:956\u001b[0m, in \u001b[0;36mAPIRouter.api_route.<locals>.decorator\u001b[1;34m(func)\u001b[0m\n\u001b[0;32m    955\u001b[0m \u001b[38;5;28;01mdef\u001b[39;00m \u001b[38;5;21mdecorator\u001b[39m(func: DecoratedCallable) \u001b[38;5;241m-\u001b[39m\u001b[38;5;241m>\u001b[39m DecoratedCallable:\n\u001b[1;32m--> 956\u001b[0m     \u001b[38;5;28mself\u001b[39m\u001b[38;5;241m.\u001b[39madd_api_route(\n\u001b[0;32m    957\u001b[0m         path,\n\u001b[0;32m    958\u001b[0m         func,\n\u001b[0;32m    959\u001b[0m         response_model\u001b[38;5;241m=\u001b[39mresponse_model,\n\u001b[0;32m    960\u001b[0m         status_code\u001b[38;5;241m=\u001b[39mstatus_code,\n\u001b[0;32m    961\u001b[0m         tags\u001b[38;5;241m=\u001b[39mtags,\n\u001b[0;32m    962\u001b[0m         dependencies\u001b[38;5;241m=\u001b[39mdependencies,\n\u001b[0;32m    963\u001b[0m         summary\u001b[38;5;241m=\u001b[39msummary,\n\u001b[0;32m    964\u001b[0m         description\u001b[38;5;241m=\u001b[39mdescription,\n\u001b[0;32m    965\u001b[0m         response_description\u001b[38;5;241m=\u001b[39mresponse_description,\n\u001b[0;32m    966\u001b[0m         responses\u001b[38;5;241m=\u001b[39mresponses,\n\u001b[0;32m    967\u001b[0m         deprecated\u001b[38;5;241m=\u001b[39mdeprecated,\n\u001b[0;32m    968\u001b[0m         methods\u001b[38;5;241m=\u001b[39mmethods,\n\u001b[0;32m    969\u001b[0m         operation_id\u001b[38;5;241m=\u001b[39moperation_id,\n\u001b[0;32m    970\u001b[0m         response_model_include\u001b[38;5;241m=\u001b[39mresponse_model_include,\n\u001b[0;32m    971\u001b[0m         response_model_exclude\u001b[38;5;241m=\u001b[39mresponse_model_exclude,\n\u001b[0;32m    972\u001b[0m         response_model_by_alias\u001b[38;5;241m=\u001b[39mresponse_model_by_alias,\n\u001b[0;32m    973\u001b[0m         response_model_exclude_unset\u001b[38;5;241m=\u001b[39mresponse_model_exclude_unset,\n\u001b[0;32m    974\u001b[0m         response_model_exclude_defaults\u001b[38;5;241m=\u001b[39mresponse_model_exclude_defaults,\n\u001b[0;32m    975\u001b[0m         response_model_exclude_none\u001b[38;5;241m=\u001b[39mresponse_model_exclude_none,\n\u001b[0;32m    976\u001b[0m         include_in_schema\u001b[38;5;241m=\u001b[39minclude_in_schema,\n\u001b[0;32m    977\u001b[0m         response_class\u001b[38;5;241m=\u001b[39mresponse_class,\n\u001b[0;32m    978\u001b[0m         name\u001b[38;5;241m=\u001b[39mname,\n\u001b[0;32m    979\u001b[0m         callbacks\u001b[38;5;241m=\u001b[39mcallbacks,\n\u001b[0;32m    980\u001b[0m         openapi_extra\u001b[38;5;241m=\u001b[39mopenapi_extra,\n\u001b[0;32m    981\u001b[0m         generate_unique_id_function\u001b[38;5;241m=\u001b[39mgenerate_unique_id_function,\n\u001b[0;32m    982\u001b[0m     )\n\u001b[0;32m    983\u001b[0m     \u001b[38;5;28;01mreturn\u001b[39;00m func\n",
      "File \u001b[1;32mD:\\Anaconda\\Lib\\site-packages\\fastapi\\routing.py:895\u001b[0m, in \u001b[0;36mAPIRouter.add_api_route\u001b[1;34m(self, path, endpoint, response_model, status_code, tags, dependencies, summary, description, response_description, responses, deprecated, methods, operation_id, response_model_include, response_model_exclude, response_model_by_alias, response_model_exclude_unset, response_model_exclude_defaults, response_model_exclude_none, include_in_schema, response_class, name, route_class_override, callbacks, openapi_extra, generate_unique_id_function)\u001b[0m\n\u001b[0;32m    891\u001b[0m     current_callbacks\u001b[38;5;241m.\u001b[39mextend(callbacks)\n\u001b[0;32m    892\u001b[0m current_generate_unique_id \u001b[38;5;241m=\u001b[39m get_value_or_default(\n\u001b[0;32m    893\u001b[0m     generate_unique_id_function, \u001b[38;5;28mself\u001b[39m\u001b[38;5;241m.\u001b[39mgenerate_unique_id_function\n\u001b[0;32m    894\u001b[0m )\n\u001b[1;32m--> 895\u001b[0m route \u001b[38;5;241m=\u001b[39m route_class(\n\u001b[0;32m    896\u001b[0m     \u001b[38;5;28mself\u001b[39m\u001b[38;5;241m.\u001b[39mprefix \u001b[38;5;241m+\u001b[39m path,\n\u001b[0;32m    897\u001b[0m     endpoint\u001b[38;5;241m=\u001b[39mendpoint,\n\u001b[0;32m    898\u001b[0m     response_model\u001b[38;5;241m=\u001b[39mresponse_model,\n\u001b[0;32m    899\u001b[0m     status_code\u001b[38;5;241m=\u001b[39mstatus_code,\n\u001b[0;32m    900\u001b[0m     tags\u001b[38;5;241m=\u001b[39mcurrent_tags,\n\u001b[0;32m    901\u001b[0m     dependencies\u001b[38;5;241m=\u001b[39mcurrent_dependencies,\n\u001b[0;32m    902\u001b[0m     summary\u001b[38;5;241m=\u001b[39msummary,\n\u001b[0;32m    903\u001b[0m     description\u001b[38;5;241m=\u001b[39mdescription,\n\u001b[0;32m    904\u001b[0m     response_description\u001b[38;5;241m=\u001b[39mresponse_description,\n\u001b[0;32m    905\u001b[0m     responses\u001b[38;5;241m=\u001b[39mcombined_responses,\n\u001b[0;32m    906\u001b[0m     deprecated\u001b[38;5;241m=\u001b[39mdeprecated \u001b[38;5;129;01mor\u001b[39;00m \u001b[38;5;28mself\u001b[39m\u001b[38;5;241m.\u001b[39mdeprecated,\n\u001b[0;32m    907\u001b[0m     methods\u001b[38;5;241m=\u001b[39mmethods,\n\u001b[0;32m    908\u001b[0m     operation_id\u001b[38;5;241m=\u001b[39moperation_id,\n\u001b[0;32m    909\u001b[0m     response_model_include\u001b[38;5;241m=\u001b[39mresponse_model_include,\n\u001b[0;32m    910\u001b[0m     response_model_exclude\u001b[38;5;241m=\u001b[39mresponse_model_exclude,\n\u001b[0;32m    911\u001b[0m     response_model_by_alias\u001b[38;5;241m=\u001b[39mresponse_model_by_alias,\n\u001b[0;32m    912\u001b[0m     response_model_exclude_unset\u001b[38;5;241m=\u001b[39mresponse_model_exclude_unset,\n\u001b[0;32m    913\u001b[0m     response_model_exclude_defaults\u001b[38;5;241m=\u001b[39mresponse_model_exclude_defaults,\n\u001b[0;32m    914\u001b[0m     response_model_exclude_none\u001b[38;5;241m=\u001b[39mresponse_model_exclude_none,\n\u001b[0;32m    915\u001b[0m     include_in_schema\u001b[38;5;241m=\u001b[39minclude_in_schema \u001b[38;5;129;01mand\u001b[39;00m \u001b[38;5;28mself\u001b[39m\u001b[38;5;241m.\u001b[39minclude_in_schema,\n\u001b[0;32m    916\u001b[0m     response_class\u001b[38;5;241m=\u001b[39mcurrent_response_class,\n\u001b[0;32m    917\u001b[0m     name\u001b[38;5;241m=\u001b[39mname,\n\u001b[0;32m    918\u001b[0m     dependency_overrides_provider\u001b[38;5;241m=\u001b[39m\u001b[38;5;28mself\u001b[39m\u001b[38;5;241m.\u001b[39mdependency_overrides_provider,\n\u001b[0;32m    919\u001b[0m     callbacks\u001b[38;5;241m=\u001b[39mcurrent_callbacks,\n\u001b[0;32m    920\u001b[0m     openapi_extra\u001b[38;5;241m=\u001b[39mopenapi_extra,\n\u001b[0;32m    921\u001b[0m     generate_unique_id_function\u001b[38;5;241m=\u001b[39mcurrent_generate_unique_id,\n\u001b[0;32m    922\u001b[0m )\n\u001b[0;32m    923\u001b[0m \u001b[38;5;28mself\u001b[39m\u001b[38;5;241m.\u001b[39mroutes\u001b[38;5;241m.\u001b[39mappend(route)\n",
      "File \u001b[1;32mD:\\Anaconda\\Lib\\site-packages\\fastapi\\routing.py:531\u001b[0m, in \u001b[0;36mAPIRoute.__init__\u001b[1;34m(self, path, endpoint, response_model, status_code, tags, dependencies, summary, description, response_description, responses, deprecated, name, methods, operation_id, response_model_include, response_model_exclude, response_model_by_alias, response_model_exclude_unset, response_model_exclude_defaults, response_model_exclude_none, include_in_schema, response_class, dependency_overrides_provider, callbacks, openapi_extra, generate_unique_id_function)\u001b[0m\n\u001b[0;32m    526\u001b[0m \u001b[38;5;28;01mfor\u001b[39;00m depends \u001b[38;5;129;01min\u001b[39;00m \u001b[38;5;28mself\u001b[39m\u001b[38;5;241m.\u001b[39mdependencies[::\u001b[38;5;241m-\u001b[39m\u001b[38;5;241m1\u001b[39m]:\n\u001b[0;32m    527\u001b[0m     \u001b[38;5;28mself\u001b[39m\u001b[38;5;241m.\u001b[39mdependant\u001b[38;5;241m.\u001b[39mdependencies\u001b[38;5;241m.\u001b[39minsert(\n\u001b[0;32m    528\u001b[0m         \u001b[38;5;241m0\u001b[39m,\n\u001b[0;32m    529\u001b[0m         get_parameterless_sub_dependant(depends\u001b[38;5;241m=\u001b[39mdepends, path\u001b[38;5;241m=\u001b[39m\u001b[38;5;28mself\u001b[39m\u001b[38;5;241m.\u001b[39mpath_format),\n\u001b[0;32m    530\u001b[0m     )\n\u001b[1;32m--> 531\u001b[0m \u001b[38;5;28mself\u001b[39m\u001b[38;5;241m.\u001b[39mbody_field \u001b[38;5;241m=\u001b[39m get_body_field(dependant\u001b[38;5;241m=\u001b[39m\u001b[38;5;28mself\u001b[39m\u001b[38;5;241m.\u001b[39mdependant, name\u001b[38;5;241m=\u001b[39m\u001b[38;5;28mself\u001b[39m\u001b[38;5;241m.\u001b[39munique_id)\n\u001b[0;32m    532\u001b[0m \u001b[38;5;28mself\u001b[39m\u001b[38;5;241m.\u001b[39mapp \u001b[38;5;241m=\u001b[39m request_response(\u001b[38;5;28mself\u001b[39m\u001b[38;5;241m.\u001b[39mget_route_handler())\n",
      "File \u001b[1;32mD:\\Anaconda\\Lib\\site-packages\\fastapi\\dependencies\\utils.py:815\u001b[0m, in \u001b[0;36mget_body_field\u001b[1;34m(dependant, name)\u001b[0m\n\u001b[0;32m    807\u001b[0m         BodyFieldInfo_kwargs[\u001b[38;5;124m\"\u001b[39m\u001b[38;5;124mmedia_type\u001b[39m\u001b[38;5;124m\"\u001b[39m] \u001b[38;5;241m=\u001b[39m body_param_media_types[\u001b[38;5;241m0\u001b[39m]\n\u001b[0;32m    808\u001b[0m final_field \u001b[38;5;241m=\u001b[39m create_response_field(\n\u001b[0;32m    809\u001b[0m     name\u001b[38;5;241m=\u001b[39m\u001b[38;5;124m\"\u001b[39m\u001b[38;5;124mbody\u001b[39m\u001b[38;5;124m\"\u001b[39m,\n\u001b[0;32m    810\u001b[0m     type_\u001b[38;5;241m=\u001b[39mBodyModel,\n\u001b[1;32m   (...)\u001b[0m\n\u001b[0;32m    813\u001b[0m     field_info\u001b[38;5;241m=\u001b[39mBodyFieldInfo(\u001b[38;5;241m*\u001b[39m\u001b[38;5;241m*\u001b[39mBodyFieldInfo_kwargs),\n\u001b[0;32m    814\u001b[0m )\n\u001b[1;32m--> 815\u001b[0m check_file_field(final_field)\n\u001b[0;32m    816\u001b[0m \u001b[38;5;28;01mreturn\u001b[39;00m final_field\n",
      "File \u001b[1;32mD:\\Anaconda\\Lib\\site-packages\\fastapi\\dependencies\\utils.py:100\u001b[0m, in \u001b[0;36mcheck_file_field\u001b[1;34m(field)\u001b[0m\n\u001b[0;32m     98\u001b[0m \u001b[38;5;28;01mexcept\u001b[39;00m \u001b[38;5;167;01mImportError\u001b[39;00m:\n\u001b[0;32m     99\u001b[0m     logger\u001b[38;5;241m.\u001b[39merror(multipart_not_installed_error)\n\u001b[1;32m--> 100\u001b[0m     \u001b[38;5;28;01mraise\u001b[39;00m \u001b[38;5;167;01mRuntimeError\u001b[39;00m(multipart_not_installed_error) \u001b[38;5;28;01mfrom\u001b[39;00m \u001b[38;5;28;01mNone\u001b[39;00m\n",
      "\u001b[1;31mRuntimeError\u001b[0m: Form data requires \"python-multipart\" to be installed. \nYou can install \"python-multipart\" with: \n\npip install python-multipart\n"
     ]
    }
   ],
   "source": [
    "from fastapi import FastAPI, Form\n",
    "from fastapi.middleware.wsgi import WSGIMiddleware\n",
    "from fastapi.responses import JSONResponse\n",
    "from uvicorn import run as uvicorn_run\n",
    "from starlette.responses import HTMLResponse\n",
    "\n",
    "app = FastAPI()\n",
    "\n",
    "@app.post(\"/addition\")\n",
    "async def add_numbers(num1: float = Form(...), num2: float = Form(...)):\n",
    "    result = num1 + num2\n",
    "    return {\"result\": result}\n",
    "\n",
    "# Wrap the FastAPI app with WSGIMiddleware to run it in Jupyter notebook\n",
    "app = WSGIMiddleware(app)\n",
    "\n",
    "# Start the server using uvicorn in the background\n",
    "uvicorn_run(app, host=\"127.0.0.1\", port=8000)\n",
    "\n",
    "# Display a link to the FastAPI documentation\n",
    "HTMLResponse(\"<a href='http://127.0.0.1:8000/docs'>Open FastAPI Documentation</a>\")\n"
   ]
  },
  {
   "cell_type": "code",
   "execution_count": 7,
   "id": "15241652",
   "metadata": {},
   "outputs": [
    {
     "name": "stdout",
     "output_type": "stream",
     "text": [
      "Collecting python-multipart\n",
      "  Downloading python_multipart-0.0.6-py3-none-any.whl (45 kB)\n",
      "     ---------------------------------------- 0.0/45.7 kB ? eta -:--:--\n",
      "     ----------------- -------------------- 20.5/45.7 kB 330.3 kB/s eta 0:00:01\n",
      "     ---------------------------------- --- 41.0/45.7 kB 393.8 kB/s eta 0:00:01\n",
      "     -------------------------------------- 45.7/45.7 kB 377.4 kB/s eta 0:00:00\n",
      "Installing collected packages: python-multipart\n",
      "Successfully installed python-multipart-0.0.6\n"
     ]
    }
   ],
   "source": [
    "!pip install python-multipart\n"
   ]
  },
  {
   "cell_type": "code",
   "execution_count": 8,
   "id": "286013e1",
   "metadata": {},
   "outputs": [
    {
     "ename": "RuntimeError",
     "evalue": "asyncio.run() cannot be called from a running event loop",
     "output_type": "error",
     "traceback": [
      "\u001b[1;31m---------------------------------------------------------------------------\u001b[0m",
      "\u001b[1;31mRuntimeError\u001b[0m                              Traceback (most recent call last)",
      "Cell \u001b[1;32mIn[8], line 18\u001b[0m\n\u001b[0;32m     15\u001b[0m app \u001b[38;5;241m=\u001b[39m WSGIMiddleware(app)\n\u001b[0;32m     17\u001b[0m \u001b[38;5;66;03m# Start the server using uvicorn in the background\u001b[39;00m\n\u001b[1;32m---> 18\u001b[0m uvicorn_run(app, host\u001b[38;5;241m=\u001b[39m\u001b[38;5;124m\"\u001b[39m\u001b[38;5;124m127.0.0.1\u001b[39m\u001b[38;5;124m\"\u001b[39m, port\u001b[38;5;241m=\u001b[39m\u001b[38;5;241m8000\u001b[39m)\n\u001b[0;32m     20\u001b[0m \u001b[38;5;66;03m# Display a link to the FastAPI documentation\u001b[39;00m\n\u001b[0;32m     21\u001b[0m HTMLResponse(\u001b[38;5;124m\"\u001b[39m\u001b[38;5;124m<a href=\u001b[39m\u001b[38;5;124m'\u001b[39m\u001b[38;5;124mhttp://127.0.0.1:8000/docs\u001b[39m\u001b[38;5;124m'\u001b[39m\u001b[38;5;124m>Open FastAPI Documentation</a>\u001b[39m\u001b[38;5;124m\"\u001b[39m)\n",
      "File \u001b[1;32mD:\\Anaconda\\Lib\\site-packages\\uvicorn\\main.py:587\u001b[0m, in \u001b[0;36mrun\u001b[1;34m(app, host, port, uds, fd, loop, http, ws, ws_max_size, ws_max_queue, ws_ping_interval, ws_ping_timeout, ws_per_message_deflate, lifespan, interface, reload, reload_dirs, reload_includes, reload_excludes, reload_delay, workers, env_file, log_config, log_level, access_log, proxy_headers, server_header, date_header, forwarded_allow_ips, root_path, limit_concurrency, backlog, limit_max_requests, timeout_keep_alive, timeout_graceful_shutdown, ssl_keyfile, ssl_certfile, ssl_keyfile_password, ssl_version, ssl_cert_reqs, ssl_ca_certs, ssl_ciphers, headers, use_colors, app_dir, factory, h11_max_incomplete_event_size)\u001b[0m\n\u001b[0;32m    585\u001b[0m     Multiprocess(config, target\u001b[38;5;241m=\u001b[39mserver\u001b[38;5;241m.\u001b[39mrun, sockets\u001b[38;5;241m=\u001b[39m[sock])\u001b[38;5;241m.\u001b[39mrun()\n\u001b[0;32m    586\u001b[0m \u001b[38;5;28;01melse\u001b[39;00m:\n\u001b[1;32m--> 587\u001b[0m     server\u001b[38;5;241m.\u001b[39mrun()\n\u001b[0;32m    588\u001b[0m \u001b[38;5;28;01mif\u001b[39;00m config\u001b[38;5;241m.\u001b[39muds \u001b[38;5;129;01mand\u001b[39;00m os\u001b[38;5;241m.\u001b[39mpath\u001b[38;5;241m.\u001b[39mexists(config\u001b[38;5;241m.\u001b[39muds):\n\u001b[0;32m    589\u001b[0m     os\u001b[38;5;241m.\u001b[39mremove(config\u001b[38;5;241m.\u001b[39muds)  \u001b[38;5;66;03m# pragma: py-win32\u001b[39;00m\n",
      "File \u001b[1;32mD:\\Anaconda\\Lib\\site-packages\\uvicorn\\server.py:62\u001b[0m, in \u001b[0;36mServer.run\u001b[1;34m(self, sockets)\u001b[0m\n\u001b[0;32m     60\u001b[0m \u001b[38;5;28;01mdef\u001b[39;00m \u001b[38;5;21mrun\u001b[39m(\u001b[38;5;28mself\u001b[39m, sockets: \u001b[38;5;28mlist\u001b[39m[socket\u001b[38;5;241m.\u001b[39msocket] \u001b[38;5;241m|\u001b[39m \u001b[38;5;28;01mNone\u001b[39;00m \u001b[38;5;241m=\u001b[39m \u001b[38;5;28;01mNone\u001b[39;00m) \u001b[38;5;241m-\u001b[39m\u001b[38;5;241m>\u001b[39m \u001b[38;5;28;01mNone\u001b[39;00m:\n\u001b[0;32m     61\u001b[0m     \u001b[38;5;28mself\u001b[39m\u001b[38;5;241m.\u001b[39mconfig\u001b[38;5;241m.\u001b[39msetup_event_loop()\n\u001b[1;32m---> 62\u001b[0m     \u001b[38;5;28;01mreturn\u001b[39;00m asyncio\u001b[38;5;241m.\u001b[39mrun(\u001b[38;5;28mself\u001b[39m\u001b[38;5;241m.\u001b[39mserve(sockets\u001b[38;5;241m=\u001b[39msockets))\n",
      "File \u001b[1;32mD:\\Anaconda\\Lib\\asyncio\\runners.py:186\u001b[0m, in \u001b[0;36mrun\u001b[1;34m(main, debug)\u001b[0m\n\u001b[0;32m    161\u001b[0m \u001b[38;5;250m\u001b[39m\u001b[38;5;124;03m\"\"\"Execute the coroutine and return the result.\u001b[39;00m\n\u001b[0;32m    162\u001b[0m \n\u001b[0;32m    163\u001b[0m \u001b[38;5;124;03mThis function runs the passed coroutine, taking care of\u001b[39;00m\n\u001b[1;32m   (...)\u001b[0m\n\u001b[0;32m    182\u001b[0m \u001b[38;5;124;03m    asyncio.run(main())\u001b[39;00m\n\u001b[0;32m    183\u001b[0m \u001b[38;5;124;03m\"\"\"\u001b[39;00m\n\u001b[0;32m    184\u001b[0m \u001b[38;5;28;01mif\u001b[39;00m events\u001b[38;5;241m.\u001b[39m_get_running_loop() \u001b[38;5;129;01mis\u001b[39;00m \u001b[38;5;129;01mnot\u001b[39;00m \u001b[38;5;28;01mNone\u001b[39;00m:\n\u001b[0;32m    185\u001b[0m     \u001b[38;5;66;03m# fail fast with short traceback\u001b[39;00m\n\u001b[1;32m--> 186\u001b[0m     \u001b[38;5;28;01mraise\u001b[39;00m \u001b[38;5;167;01mRuntimeError\u001b[39;00m(\n\u001b[0;32m    187\u001b[0m         \u001b[38;5;124m\"\u001b[39m\u001b[38;5;124masyncio.run() cannot be called from a running event loop\u001b[39m\u001b[38;5;124m\"\u001b[39m)\n\u001b[0;32m    189\u001b[0m \u001b[38;5;28;01mwith\u001b[39;00m Runner(debug\u001b[38;5;241m=\u001b[39mdebug) \u001b[38;5;28;01mas\u001b[39;00m runner:\n\u001b[0;32m    190\u001b[0m     \u001b[38;5;28;01mreturn\u001b[39;00m runner\u001b[38;5;241m.\u001b[39mrun(main)\n",
      "\u001b[1;31mRuntimeError\u001b[0m: asyncio.run() cannot be called from a running event loop"
     ]
    }
   ],
   "source": [
    "from fastapi import FastAPI, Form\n",
    "from fastapi.middleware.wsgi import WSGIMiddleware\n",
    "from fastapi.responses import JSONResponse\n",
    "from uvicorn import run as uvicorn_run\n",
    "from starlette.responses import HTMLResponse\n",
    "\n",
    "app = FastAPI()\n",
    "\n",
    "@app.post(\"/addition\")\n",
    "async def add_numbers(num1: float = Form(...), num2: float = Form(...)):\n",
    "    result = num1 + num2\n",
    "    return {\"result\": result}\n",
    "\n",
    "# Wrap the FastAPI app with WSGIMiddleware to run it in Jupyter notebook\n",
    "app = WSGIMiddleware(app)\n",
    "\n",
    "# Start the server using uvicorn in the background\n",
    "uvicorn_run(app, host=\"127.0.0.1\", port=8000)\n",
    "\n",
    "# Display a link to the FastAPI documentation\n",
    "HTMLResponse(\"<a href='http://127.0.0.1:8000/docs'>Open FastAPI Documentation</a>\")\n"
   ]
  },
  {
   "cell_type": "code",
   "execution_count": 9,
   "id": "cd54768b",
   "metadata": {},
   "outputs": [
    {
     "name": "stdout",
     "output_type": "stream",
     "text": [
      "Requirement already satisfied: nest_asyncio in d:\\anaconda\\lib\\site-packages (1.5.6)\n"
     ]
    }
   ],
   "source": [
    "!pip install nest_asyncio\n"
   ]
  },
  {
   "cell_type": "code",
   "execution_count": null,
   "id": "c3402b44",
   "metadata": {},
   "outputs": [
    {
     "name": "stderr",
     "output_type": "stream",
     "text": [
      "INFO:     Started server process [17852]\n",
      "INFO:     Waiting for application startup.\n",
      "INFO:     ASGI 'lifespan' protocol appears unsupported.\n",
      "INFO:     Application startup complete.\n",
      "INFO:     Uvicorn running on http://127.0.0.1:8000 (Press CTRL+C to quit)\n",
      "ERROR:    Exception in ASGI application\n",
      "Traceback (most recent call last):\n",
      "  File \"D:\\Anaconda\\Lib\\site-packages\\uvicorn\\protocols\\http\\h11_impl.py\", line 404, in run_asgi\n",
      "    result = await app(  # type: ignore[func-returns-value]\n",
      "             ^^^^^^^^^^^^^^^^^^^^^^^^^^^^^^^^^^^^^^^^^^^^^^\n",
      "  File \"D:\\Anaconda\\Lib\\site-packages\\uvicorn\\middleware\\proxy_headers.py\", line 84, in __call__\n",
      "    return await self.app(scope, receive, send)\n",
      "           ^^^^^^^^^^^^^^^^^^^^^^^^^^^^^^^^^^^^\n",
      "  File \"D:\\Anaconda\\Lib\\site-packages\\starlette\\middleware\\wsgi.py\", line 78, in __call__\n",
      "    await responder(receive, send)\n",
      "  File \"D:\\Anaconda\\Lib\\site-packages\\starlette\\middleware\\wsgi.py\", line 108, in __call__\n",
      "    await anyio.to_thread.run_sync(self.wsgi, environ, self.start_response)\n",
      "  File \"D:\\Anaconda\\Lib\\site-packages\\anyio\\to_thread.py\", line 28, in run_sync\n",
      "    return await get_asynclib().run_sync_in_worker_thread(func, *args, cancellable=cancellable,\n",
      "           ^^^^^^^^^^^^^^^^^^^^^^^^^^^^^^^^^^^^^^^^^^^^^^^^^^^^^^^^^^^^^^^^^^^^^^^^^^^^^^^^^^^^\n",
      "  File \"D:\\Anaconda\\Lib\\site-packages\\anyio\\_backends\\_asyncio.py\", line 818, in run_sync_in_worker_thread\n",
      "    return await future\n",
      "           ^^^^^^^^^^^^\n",
      "  File \"D:\\Anaconda\\Lib\\asyncio\\futures.py\", line 287, in __await__\n",
      "    yield self  # This tells Task to wait for completion.\n",
      "    ^^^^^^^^^^\n",
      "  File \"D:\\Anaconda\\Lib\\asyncio\\tasks.py\", line 339, in __wakeup\n",
      "    future.result()\n",
      "  File \"D:\\Anaconda\\Lib\\asyncio\\futures.py\", line 203, in result\n",
      "    raise self._exception.with_traceback(self._exception_tb)\n",
      "  File \"D:\\Anaconda\\Lib\\site-packages\\anyio\\_backends\\_asyncio.py\", line 754, in run\n",
      "    result = context.run(func, *args)\n",
      "             ^^^^^^^^^^^^^^^^^^^^^^^^\n",
      "  File \"D:\\Anaconda\\Lib\\site-packages\\starlette\\middleware\\wsgi.py\", line 146, in wsgi\n",
      "    for chunk in self.app(environ, start_response):\n",
      "                 ^^^^^^^^^^^^^^^^^^^^^^^^^^^^^^^^^\n",
      "TypeError: FastAPI.__call__() missing 1 required positional argument: 'send'\n"
     ]
    },
    {
     "name": "stdout",
     "output_type": "stream",
     "text": [
      "INFO:     127.0.0.1:54643 - \"GET / HTTP/1.1\" 500 Internal Server Error\n"
     ]
    },
    {
     "name": "stderr",
     "output_type": "stream",
     "text": [
      "ERROR:    Exception in ASGI application\n",
      "Traceback (most recent call last):\n",
      "  File \"D:\\Anaconda\\Lib\\site-packages\\uvicorn\\protocols\\http\\h11_impl.py\", line 404, in run_asgi\n",
      "    result = await app(  # type: ignore[func-returns-value]\n",
      "             ^^^^^^^^^^^^^^^^^^^^^^^^^^^^^^^^^^^^^^^^^^^^^^\n",
      "  File \"D:\\Anaconda\\Lib\\site-packages\\uvicorn\\middleware\\proxy_headers.py\", line 84, in __call__\n",
      "    return await self.app(scope, receive, send)\n",
      "           ^^^^^^^^^^^^^^^^^^^^^^^^^^^^^^^^^^^^\n",
      "  File \"D:\\Anaconda\\Lib\\site-packages\\starlette\\middleware\\wsgi.py\", line 78, in __call__\n",
      "    await responder(receive, send)\n",
      "  File \"D:\\Anaconda\\Lib\\site-packages\\starlette\\middleware\\wsgi.py\", line 108, in __call__\n",
      "    await anyio.to_thread.run_sync(self.wsgi, environ, self.start_response)\n",
      "  File \"D:\\Anaconda\\Lib\\site-packages\\anyio\\to_thread.py\", line 28, in run_sync\n",
      "    return await get_asynclib().run_sync_in_worker_thread(func, *args, cancellable=cancellable,\n",
      "           ^^^^^^^^^^^^^^^^^^^^^^^^^^^^^^^^^^^^^^^^^^^^^^^^^^^^^^^^^^^^^^^^^^^^^^^^^^^^^^^^^^^^\n",
      "  File \"D:\\Anaconda\\Lib\\site-packages\\anyio\\_backends\\_asyncio.py\", line 818, in run_sync_in_worker_thread\n",
      "    return await future\n",
      "           ^^^^^^^^^^^^\n",
      "  File \"D:\\Anaconda\\Lib\\asyncio\\futures.py\", line 287, in __await__\n",
      "    yield self  # This tells Task to wait for completion.\n",
      "    ^^^^^^^^^^\n",
      "  File \"D:\\Anaconda\\Lib\\asyncio\\tasks.py\", line 339, in __wakeup\n",
      "    future.result()\n",
      "  File \"D:\\Anaconda\\Lib\\asyncio\\futures.py\", line 203, in result\n",
      "    raise self._exception.with_traceback(self._exception_tb)\n",
      "  File \"D:\\Anaconda\\Lib\\site-packages\\anyio\\_backends\\_asyncio.py\", line 754, in run\n",
      "    result = context.run(func, *args)\n",
      "             ^^^^^^^^^^^^^^^^^^^^^^^^\n",
      "  File \"D:\\Anaconda\\Lib\\site-packages\\starlette\\middleware\\wsgi.py\", line 146, in wsgi\n",
      "    for chunk in self.app(environ, start_response):\n",
      "                 ^^^^^^^^^^^^^^^^^^^^^^^^^^^^^^^^^\n",
      "TypeError: FastAPI.__call__() missing 1 required positional argument: 'send'\n"
     ]
    },
    {
     "name": "stdout",
     "output_type": "stream",
     "text": [
      "INFO:     127.0.0.1:54662 - \"GET /favicon.ico HTTP/1.1\" 500 Internal Server Error\n"
     ]
    },
    {
     "name": "stderr",
     "output_type": "stream",
     "text": [
      "ERROR:    Exception in ASGI application\n",
      "Traceback (most recent call last):\n",
      "  File \"D:\\Anaconda\\Lib\\site-packages\\uvicorn\\protocols\\http\\h11_impl.py\", line 404, in run_asgi\n",
      "    result = await app(  # type: ignore[func-returns-value]\n",
      "             ^^^^^^^^^^^^^^^^^^^^^^^^^^^^^^^^^^^^^^^^^^^^^^\n",
      "  File \"D:\\Anaconda\\Lib\\site-packages\\uvicorn\\middleware\\proxy_headers.py\", line 84, in __call__\n",
      "    return await self.app(scope, receive, send)\n",
      "           ^^^^^^^^^^^^^^^^^^^^^^^^^^^^^^^^^^^^\n",
      "  File \"D:\\Anaconda\\Lib\\site-packages\\starlette\\middleware\\wsgi.py\", line 78, in __call__\n",
      "    await responder(receive, send)\n",
      "  File \"D:\\Anaconda\\Lib\\site-packages\\starlette\\middleware\\wsgi.py\", line 108, in __call__\n",
      "    await anyio.to_thread.run_sync(self.wsgi, environ, self.start_response)\n",
      "  File \"D:\\Anaconda\\Lib\\site-packages\\anyio\\to_thread.py\", line 28, in run_sync\n",
      "    return await get_asynclib().run_sync_in_worker_thread(func, *args, cancellable=cancellable,\n",
      "           ^^^^^^^^^^^^^^^^^^^^^^^^^^^^^^^^^^^^^^^^^^^^^^^^^^^^^^^^^^^^^^^^^^^^^^^^^^^^^^^^^^^^\n",
      "  File \"D:\\Anaconda\\Lib\\site-packages\\anyio\\_backends\\_asyncio.py\", line 818, in run_sync_in_worker_thread\n",
      "    return await future\n",
      "           ^^^^^^^^^^^^\n",
      "  File \"D:\\Anaconda\\Lib\\asyncio\\futures.py\", line 287, in __await__\n",
      "    yield self  # This tells Task to wait for completion.\n",
      "    ^^^^^^^^^^\n",
      "  File \"D:\\Anaconda\\Lib\\asyncio\\tasks.py\", line 339, in __wakeup\n",
      "    future.result()\n",
      "  File \"D:\\Anaconda\\Lib\\asyncio\\futures.py\", line 203, in result\n",
      "    raise self._exception.with_traceback(self._exception_tb)\n",
      "  File \"D:\\Anaconda\\Lib\\site-packages\\anyio\\_backends\\_asyncio.py\", line 754, in run\n",
      "    result = context.run(func, *args)\n",
      "             ^^^^^^^^^^^^^^^^^^^^^^^^\n",
      "  File \"D:\\Anaconda\\Lib\\site-packages\\starlette\\middleware\\wsgi.py\", line 146, in wsgi\n",
      "    for chunk in self.app(environ, start_response):\n",
      "                 ^^^^^^^^^^^^^^^^^^^^^^^^^^^^^^^^^\n",
      "TypeError: FastAPI.__call__() missing 1 required positional argument: 'send'\n"
     ]
    },
    {
     "name": "stdout",
     "output_type": "stream",
     "text": [
      "INFO:     127.0.0.1:50169 - \"POST /addition HTTP/1.1\" 500 Internal Server Error\n"
     ]
    },
    {
     "name": "stderr",
     "output_type": "stream",
     "text": [
      "ERROR:    Exception in ASGI application\n",
      "Traceback (most recent call last):\n",
      "  File \"D:\\Anaconda\\Lib\\site-packages\\uvicorn\\protocols\\http\\h11_impl.py\", line 404, in run_asgi\n",
      "    result = await app(  # type: ignore[func-returns-value]\n",
      "             ^^^^^^^^^^^^^^^^^^^^^^^^^^^^^^^^^^^^^^^^^^^^^^\n",
      "  File \"D:\\Anaconda\\Lib\\site-packages\\uvicorn\\middleware\\proxy_headers.py\", line 84, in __call__\n",
      "    return await self.app(scope, receive, send)\n",
      "           ^^^^^^^^^^^^^^^^^^^^^^^^^^^^^^^^^^^^\n",
      "  File \"D:\\Anaconda\\Lib\\site-packages\\starlette\\middleware\\wsgi.py\", line 78, in __call__\n",
      "    await responder(receive, send)\n",
      "  File \"D:\\Anaconda\\Lib\\site-packages\\starlette\\middleware\\wsgi.py\", line 108, in __call__\n",
      "    await anyio.to_thread.run_sync(self.wsgi, environ, self.start_response)\n",
      "  File \"D:\\Anaconda\\Lib\\site-packages\\anyio\\to_thread.py\", line 28, in run_sync\n",
      "    return await get_asynclib().run_sync_in_worker_thread(func, *args, cancellable=cancellable,\n",
      "           ^^^^^^^^^^^^^^^^^^^^^^^^^^^^^^^^^^^^^^^^^^^^^^^^^^^^^^^^^^^^^^^^^^^^^^^^^^^^^^^^^^^^\n",
      "  File \"D:\\Anaconda\\Lib\\site-packages\\anyio\\_backends\\_asyncio.py\", line 818, in run_sync_in_worker_thread\n",
      "    return await future\n",
      "           ^^^^^^^^^^^^\n",
      "  File \"D:\\Anaconda\\Lib\\asyncio\\futures.py\", line 287, in __await__\n",
      "    yield self  # This tells Task to wait for completion.\n",
      "    ^^^^^^^^^^\n",
      "  File \"D:\\Anaconda\\Lib\\asyncio\\tasks.py\", line 339, in __wakeup\n",
      "    future.result()\n",
      "  File \"D:\\Anaconda\\Lib\\asyncio\\futures.py\", line 203, in result\n",
      "    raise self._exception.with_traceback(self._exception_tb)\n",
      "  File \"D:\\Anaconda\\Lib\\site-packages\\anyio\\_backends\\_asyncio.py\", line 754, in run\n",
      "    result = context.run(func, *args)\n",
      "             ^^^^^^^^^^^^^^^^^^^^^^^^\n",
      "  File \"D:\\Anaconda\\Lib\\site-packages\\starlette\\middleware\\wsgi.py\", line 146, in wsgi\n",
      "    for chunk in self.app(environ, start_response):\n",
      "                 ^^^^^^^^^^^^^^^^^^^^^^^^^^^^^^^^^\n",
      "TypeError: FastAPI.__call__() missing 1 required positional argument: 'send'\n"
     ]
    },
    {
     "name": "stdout",
     "output_type": "stream",
     "text": [
      "INFO:     127.0.0.1:50538 - \"POST /addition HTTP/1.1\" 500 Internal Server Error\n"
     ]
    },
    {
     "name": "stderr",
     "output_type": "stream",
     "text": [
      "ERROR:    Exception in ASGI application\n",
      "Traceback (most recent call last):\n",
      "  File \"D:\\Anaconda\\Lib\\site-packages\\uvicorn\\protocols\\http\\h11_impl.py\", line 404, in run_asgi\n",
      "    result = await app(  # type: ignore[func-returns-value]\n",
      "             ^^^^^^^^^^^^^^^^^^^^^^^^^^^^^^^^^^^^^^^^^^^^^^\n",
      "  File \"D:\\Anaconda\\Lib\\site-packages\\uvicorn\\middleware\\proxy_headers.py\", line 84, in __call__\n",
      "    return await self.app(scope, receive, send)\n",
      "           ^^^^^^^^^^^^^^^^^^^^^^^^^^^^^^^^^^^^\n",
      "  File \"D:\\Anaconda\\Lib\\site-packages\\starlette\\middleware\\wsgi.py\", line 78, in __call__\n",
      "    await responder(receive, send)\n",
      "  File \"D:\\Anaconda\\Lib\\site-packages\\starlette\\middleware\\wsgi.py\", line 108, in __call__\n",
      "    await anyio.to_thread.run_sync(self.wsgi, environ, self.start_response)\n",
      "  File \"D:\\Anaconda\\Lib\\site-packages\\anyio\\to_thread.py\", line 28, in run_sync\n",
      "    return await get_asynclib().run_sync_in_worker_thread(func, *args, cancellable=cancellable,\n",
      "           ^^^^^^^^^^^^^^^^^^^^^^^^^^^^^^^^^^^^^^^^^^^^^^^^^^^^^^^^^^^^^^^^^^^^^^^^^^^^^^^^^^^^\n",
      "  File \"D:\\Anaconda\\Lib\\site-packages\\anyio\\_backends\\_asyncio.py\", line 818, in run_sync_in_worker_thread\n",
      "    return await future\n",
      "           ^^^^^^^^^^^^\n",
      "  File \"D:\\Anaconda\\Lib\\asyncio\\futures.py\", line 287, in __await__\n",
      "    yield self  # This tells Task to wait for completion.\n",
      "    ^^^^^^^^^^\n",
      "  File \"D:\\Anaconda\\Lib\\asyncio\\tasks.py\", line 339, in __wakeup\n",
      "    future.result()\n",
      "  File \"D:\\Anaconda\\Lib\\asyncio\\futures.py\", line 203, in result\n",
      "    raise self._exception.with_traceback(self._exception_tb)\n",
      "  File \"D:\\Anaconda\\Lib\\site-packages\\anyio\\_backends\\_asyncio.py\", line 754, in run\n",
      "    result = context.run(func, *args)\n",
      "             ^^^^^^^^^^^^^^^^^^^^^^^^\n",
      "  File \"D:\\Anaconda\\Lib\\site-packages\\starlette\\middleware\\wsgi.py\", line 146, in wsgi\n",
      "    for chunk in self.app(environ, start_response):\n",
      "                 ^^^^^^^^^^^^^^^^^^^^^^^^^^^^^^^^^\n",
      "TypeError: FastAPI.__call__() missing 1 required positional argument: 'send'\n"
     ]
    },
    {
     "name": "stdout",
     "output_type": "stream",
     "text": [
      "INFO:     127.0.0.1:52272 - \"POST /addition HTTP/1.1\" 500 Internal Server Error\n"
     ]
    }
   ],
   "source": [
    "import nest_asyncio\n",
    "from fastapi import FastAPI, Form\n",
    "from fastapi.middleware.wsgi import WSGIMiddleware\n",
    "from fastapi.responses import HTMLResponse\n",
    "from uvicorn import run as uvicorn_run\n",
    "\n",
    "nest_asyncio.apply()\n",
    "\n",
    "app = FastAPI()\n",
    "\n",
    "@app.post(\"/addition\")\n",
    "async def add_numbers(num1: float = Form(...), num2: float = Form(...)):\n",
    "    result = num1 + num2\n",
    "    return {\"result\": result}\n",
    "\n",
    "# Wrap the FastAPI app with WSGIMiddleware to run it in Jupyter notebook\n",
    "app = WSGIMiddleware(app)\n",
    "\n",
    "# Start the server using uvicorn in the background\n",
    "uvicorn_run(app, host=\"127.0.0.1\", port=8000)\n",
    "\n",
    "# Display a link to the FastAPI documentation\n",
    "HTMLResponse(\"<a href='http://127.0.0.1:8000/docs'>Open FastAPI Documentation</a>\")\n"
   ]
  },
  {
   "cell_type": "code",
   "execution_count": null,
   "id": "8a230569",
   "metadata": {},
   "outputs": [],
   "source": [
    "!pip install unicorn[standard]"
   ]
  },
  {
   "cell_type": "code",
   "execution_count": null,
   "id": "738bc8f6",
   "metadata": {},
   "outputs": [],
   "source": []
  }
 ],
 "metadata": {
  "kernelspec": {
   "display_name": "Python 3 (ipykernel)",
   "language": "python",
   "name": "python3"
  },
  "language_info": {
   "codemirror_mode": {
    "name": "ipython",
    "version": 3
   },
   "file_extension": ".py",
   "mimetype": "text/x-python",
   "name": "python",
   "nbconvert_exporter": "python",
   "pygments_lexer": "ipython3",
   "version": "3.11.5"
  }
 },
 "nbformat": 4,
 "nbformat_minor": 5
}
