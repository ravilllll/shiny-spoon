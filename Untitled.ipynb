{
 "cells": [
  {
   "cell_type": "code",
   "execution_count": 2,
   "id": "a5bc1141",
   "metadata": {},
   "outputs": [],
   "source": [
    "import torch\n",
    "import torch.nn as nn\n",
    "import torch.optim as optim\n",
    "from torchvision import datasets, transforms, models"
   ]
  },
  {
   "cell_type": "code",
   "execution_count": 3,
   "id": "0e599a8a",
   "metadata": {},
   "outputs": [],
   "source": [
    "training_data = 'relay_train'\n",
    "validation_data = 'relay_val'"
   ]
  },
  {
   "cell_type": "code",
   "execution_count": 5,
   "id": "0b2ae414",
   "metadata": {},
   "outputs": [],
   "source": [
    "# Define transforms for data augmentation and normalization\n",
    "train_transform = transforms.Compose([\n",
    "    transforms.RandomResizedCrop(224),\n",
    "    transforms.RandomHorizontalFlip(),\n",
    "    transforms.RandomRotation(15),\n",
    "    transforms.ColorJitter(brightness=0.1, contrast=0.1, saturation=0.1, hue=0.1),\n",
    "    transforms.ToTensor(),\n",
    "    transforms.Normalize(mean=[0.485, 0.456, 0.406], std=[0.229, 0.224, 0.225])\n",
    "])\n",
    "\n",
    "val_transform = transforms.Compose([\n",
    "    transforms.Resize(256),\n",
    "    transforms.CenterCrop(224),\n",
    "    transforms.ToTensor(),\n",
    "    transforms.Normalize(mean=[0.485, 0.456, 0.406], std=[0.229, 0.224, 0.225])\n",
    "])"
   ]
  },
  {
   "cell_type": "code",
   "execution_count": 11,
   "id": "a46dcd95",
   "metadata": {},
   "outputs": [],
   "source": [
    "import torch\n",
    "import torch.nn as nn\n",
    "import torch.optim as optim\n",
    "from torchvision import transforms, models, datasets\n",
    "from torch.utils.data import DataLoader, random_split"
   ]
  },
  {
   "cell_type": "code",
   "execution_count": 14,
   "id": "da56e03c",
   "metadata": {},
   "outputs": [],
   "source": [
    "# Load dataset\n",
    "dataset = datasets.ImageFolder(root='relay_train', transform=train_transform)\n",
    "\n",
    "# Split the dataset into training and validation sets\n",
    "train_size = int(0.8 * len(dataset))\n",
    "val_size = len(dataset) - train_size\n",
    "train_dataset, val_dataset = random_split(dataset, [train_size, val_size])\n"
   ]
  },
  {
   "cell_type": "code",
   "execution_count": 21,
   "id": "f61137a7",
   "metadata": {},
   "outputs": [],
   "source": [
    "# Create data loaders\n",
    "train_loader = DataLoader(train_dataset, batch_size=32, shuffle=True)\n",
    "val_loader = DataLoader(val_dataset, batch_size=32, shuffle=False)"
   ]
  },
  {
   "cell_type": "code",
   "execution_count": 15,
   "id": "cc56d1e8",
   "metadata": {},
   "outputs": [],
   "source": [
    "# Initialize the model with pretrained weights\n",
    "model = models.resnet34(pretrained=True)"
   ]
  },
  {
   "cell_type": "code",
   "execution_count": 16,
   "id": "f6e6d631",
   "metadata": {},
   "outputs": [],
   "source": [
    "# Freeze all layers in the network\n",
    "for param in model.parameters():\n",
    "    param.requires_grad = False"
   ]
  },
  {
   "cell_type": "code",
   "execution_count": 17,
   "id": "a8d4ff56",
   "metadata": {},
   "outputs": [],
   "source": [
    "# Unfreeze the last few layers for fine-tuning\n",
    "for param in model.layer4.parameters():\n",
    "    param.requires_grad = True"
   ]
  },
  {
   "cell_type": "code",
   "execution_count": 18,
   "id": "8ca7ea0e",
   "metadata": {},
   "outputs": [],
   "source": [
    "# Define loss function and optimizer\n",
    "criterion = nn.CrossEntropyLoss()\n",
    "optimizer = optim.SGD([\n",
    "    {'params': model.layer4.parameters(), 'lr': 0.001},\n",
    "    {'params': model.fc.parameters(), 'lr': 0.01}\n",
    "], momentum=0.9)"
   ]
  },
  {
   "cell_type": "code",
   "execution_count": 23,
   "id": "2d5f83c4",
   "metadata": {},
   "outputs": [],
   "source": [
    "# Optional: Learning rate scheduler\n",
    "scheduler = optim.lr_scheduler.StepLR(optimizer, step_size=7, gamma=0.1)"
   ]
  },
  {
   "cell_type": "code",
   "execution_count": 24,
   "id": "19daec85",
   "metadata": {},
   "outputs": [
    {
     "name": "stdout",
     "output_type": "stream",
     "text": [
      "Epoch 1/10, Training Loss: 9.6883\n",
      "Epoch 1/10, Validation Accuracy: 0.0000\n",
      "Epoch 2/10, Training Loss: 9.5167\n",
      "Epoch 2/10, Validation Accuracy: 0.0000\n",
      "Epoch 3/10, Training Loss: 9.2538\n",
      "Epoch 3/10, Validation Accuracy: 0.0000\n",
      "Epoch 4/10, Training Loss: 8.8916\n",
      "Epoch 4/10, Validation Accuracy: 0.0323\n",
      "Epoch 5/10, Training Loss: 8.5119\n",
      "Epoch 5/10, Validation Accuracy: 0.0000\n",
      "Epoch 6/10, Training Loss: 8.1489\n",
      "Epoch 6/10, Validation Accuracy: 0.0000\n",
      "Epoch 7/10, Training Loss: 7.8603\n",
      "Epoch 7/10, Validation Accuracy: 0.0323\n",
      "Epoch 8/10, Training Loss: 7.7016\n",
      "Epoch 8/10, Validation Accuracy: 0.0645\n",
      "Epoch 9/10, Training Loss: 7.5284\n",
      "Epoch 9/10, Validation Accuracy: 0.0323\n",
      "Epoch 10/10, Training Loss: 7.6312\n",
      "Epoch 10/10, Validation Accuracy: 0.0645\n"
     ]
    }
   ],
   "source": [
    "# Training loop\n",
    "num_epochs = 10\n",
    "for epoch in range(num_epochs):\n",
    "    model.train()\n",
    "    running_loss = 0.0\n",
    "    for inputs, labels in train_loader:\n",
    "        optimizer.zero_grad()\n",
    "        outputs = model(inputs)\n",
    "        loss = criterion(outputs, labels)\n",
    "        loss.backward()\n",
    "        optimizer.step()\n",
    "        running_loss += loss.item()\n",
    "\n",
    "    # Print loss every epoch\n",
    "    print(f'Epoch {epoch + 1}/{num_epochs}, Training Loss: {running_loss/len(train_loader):.4f}')\n",
    "\n",
    "    # Decay Learning Rate\n",
    "    scheduler.step()\n",
    "\n",
    "    # Validation loop\n",
    "    model.eval()\n",
    "    total_correct = 0\n",
    "    total_samples = 0\n",
    "    for inputs, labels in val_loader:\n",
    "        outputs = model(inputs)\n",
    "        _, predicted = torch.max(outputs, 1)\n",
    "        total_samples += labels.size(0)\n",
    "        total_correct += (predicted == labels).sum().item()\n",
    "\n",
    "    accuracy = total_correct / total_samples\n",
    "    print(f'Epoch {epoch + 1}/{num_epochs}, Validation Accuracy: {accuracy:.4f}')"
   ]
  },
  {
   "cell_type": "code",
   "execution_count": 25,
   "id": "7a20e704",
   "metadata": {},
   "outputs": [],
   "source": [
    "# Save the trained model\n",
    "torch.save(model.state_dict(), 'your_relay_model.pth')"
   ]
  },
  {
   "cell_type": "code",
   "execution_count": 37,
   "id": "e58ef9ad",
   "metadata": {},
   "outputs": [
    {
     "name": "stdout",
     "output_type": "stream",
     "text": [
      "Requirement already satisfied: opencv-python in d:\\anaconda\\lib\\site-packages (4.9.0.80)\n"
     ]
    },
    {
     "name": "stderr",
     "output_type": "stream",
     "text": [
      "ERROR: Could not find a version that satisfies the requirement ivcam (from versions: none)\n",
      "ERROR: No matching distribution found for ivcam\n"
     ]
    }
   ],
   "source": [
    "!pip install opencv-python ivcam\n"
   ]
  },
  {
   "cell_type": "code",
   "execution_count": 36,
   "id": "0452f9a0",
   "metadata": {},
   "outputs": [
    {
     "ename": "ModuleNotFoundError",
     "evalue": "No module named 'ivcam'",
     "output_type": "error",
     "traceback": [
      "\u001b[1;31m---------------------------------------------------------------------------\u001b[0m",
      "\u001b[1;31mModuleNotFoundError\u001b[0m                       Traceback (most recent call last)",
      "Cell \u001b[1;32mIn[36], line 2\u001b[0m\n\u001b[0;32m      1\u001b[0m \u001b[38;5;28;01mimport\u001b[39;00m \u001b[38;5;21;01mcv2\u001b[39;00m\n\u001b[1;32m----> 2\u001b[0m \u001b[38;5;28;01mfrom\u001b[39;00m \u001b[38;5;21;01mivcam\u001b[39;00m \u001b[38;5;28;01mimport\u001b[39;00m OpenCVCamera\n\u001b[0;32m      4\u001b[0m \u001b[38;5;66;03m# Create an instance of the OpenCVCamera class\u001b[39;00m\n\u001b[0;32m      5\u001b[0m camera \u001b[38;5;241m=\u001b[39m OpenCVCamera()\n",
      "\u001b[1;31mModuleNotFoundError\u001b[0m: No module named 'ivcam'"
     ]
    }
   ],
   "source": [
    "import cv2\n",
    "from ivcam import OpenCVCamera\n",
    "\n",
    "# Create an instance of the OpenCVCamera class\n",
    "camera = OpenCVCamera()\n",
    "\n",
    "# Start the camera\n",
    "camera.start_capture()\n",
    "\n",
    "while True:\n",
    "    # Capture a frame\n",
    "    frame = camera.get_frame()\n",
    "\n",
    "    # Display the frame\n",
    "    cv2.imshow('iVCam', frame)\n",
    "\n",
    "    # Break the loop when 'q' is pressed\n",
    "    if cv2.waitKey(1) & 0xFF == ord('q'):\n",
    "        break\n",
    "\n",
    "# Stop the camera and close all windows\n",
    "camera.stop_capture()\n",
    "cv2.destroyAllWindows()\n"
   ]
  },
  {
   "cell_type": "code",
   "execution_count": null,
   "id": "070afc55",
   "metadata": {},
   "outputs": [],
   "source": []
  },
  {
   "cell_type": "code",
   "execution_count": null,
   "id": "58b4f6f2",
   "metadata": {},
   "outputs": [],
   "source": [
    "import cv2\n",
    "\n",
    "# Set the IP address and port of your mobile device running DroidCam\n",
    "# Replace '192.168.1.2' and '4747' with the actual IP address and port\n",
    "droidcam_url = 'http://100.91.1.2:4747/video'\n",
    "\n",
    "# Open the video capture object\n",
    "cap = cv2.VideoCapture(droidcam_url)\n",
    "\n",
    "while True:\n",
    "    # Read a frame from the webcam\n",
    "    ret, frame = cap.read()\n",
    "\n",
    "    # Display the frame\n",
    "    cv2.imshow('Mobile Camera', frame)\n",
    "\n",
    "    # Break the loop when 'q' is pressed\n",
    "    if cv2.waitKey(1) & 0xFF == ord('q'):\n",
    "        break\n",
    "\n",
    "# Release the video capture object and close all windows\n",
    "cap.release()\n",
    "cv2.destroyAllWindows()\n"
   ]
  },
  {
   "cell_type": "code",
   "execution_count": null,
   "id": "1ff92516",
   "metadata": {},
   "outputs": [],
   "source": []
  },
  {
   "cell_type": "code",
   "execution_count": 40,
   "id": "f4ad737c",
   "metadata": {},
   "outputs": [],
   "source": [
    "import cv2\n",
    "\n",
    "# Open a connection to the default webcam (index 0)\n",
    "cap = cv2.VideoCapture(0)\n",
    "\n",
    "# Check if the webcam is opened successfully\n",
    "if not cap.isOpened():\n",
    "    print(\"Error: Could not open webcam.\")\n",
    "    exit()\n",
    "\n",
    "while True:\n",
    "    # Capture a frame from the webcam\n",
    "    ret, frame = cap.read()\n",
    "\n",
    "    # Display the frame\n",
    "    cv2.imshow('Webcam', frame)\n",
    "\n",
    "    # Break the loop when 'q' is pressed\n",
    "    if cv2.waitKey(1) & 0xFF == ord('q'):\n",
    "        break\n",
    "\n",
    "# Release the video capture object and close all windows\n",
    "cap.release()\n",
    "cv2.destroyAllWindows()\n"
   ]
  },
  {
   "cell_type": "code",
   "execution_count": null,
   "id": "dcd9328e",
   "metadata": {},
   "outputs": [],
   "source": []
  },
  {
   "cell_type": "code",
   "execution_count": null,
   "id": "9c598c6f",
   "metadata": {},
   "outputs": [],
   "source": []
  },
  {
   "cell_type": "code",
   "execution_count": null,
   "id": "2237c68e",
   "metadata": {},
   "outputs": [],
   "source": []
  }
 ],
 "metadata": {
  "kernelspec": {
   "display_name": "Python 3 (ipykernel)",
   "language": "python",
   "name": "python3"
  },
  "language_info": {
   "codemirror_mode": {
    "name": "ipython",
    "version": 3
   },
   "file_extension": ".py",
   "mimetype": "text/x-python",
   "name": "python",
   "nbconvert_exporter": "python",
   "pygments_lexer": "ipython3",
   "version": "3.11.5"
  }
 },
 "nbformat": 4,
 "nbformat_minor": 5
}
